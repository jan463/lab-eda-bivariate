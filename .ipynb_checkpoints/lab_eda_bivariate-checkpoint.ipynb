{
 "cells": [
  {
   "cell_type": "markdown",
   "id": "39e48ab8",
   "metadata": {},
   "source": [
    "## Lab - EDA Bivariate Analysis: Diving into Amazon UK Product Insights Part II\n",
    "\n",
    "**Objective**: Delve into the dynamics of product pricing on Amazon UK to uncover insights that can inform business strategies and decision-making.\n",
    "\n",
    "**Dataset**: This lab utilizes the [Amazon UK product dataset](https://www.kaggle.com/datasets/asaniczka/uk-optimal-product-price-prediction/)\n",
    "which provides information on product categories, brands, prices, ratings, and more from from Amazon UK. You'll need to download it to start working with it.\n",
    "\n",
    "---\n",
    "\n",
    "### Part 1: Analyzing Best-Seller Trends Across Product Categories\n",
    "\n",
    "**Objective**: Understand the relationship between product categories and their best-seller status.\n",
    "\n",
    "1. **Crosstab Analysis**:\n",
    "    - Create a crosstab between the product `category` and the `isBestSeller` status.\n",
    "    \n",
    "    - Are there categories where being a best-seller is more prevalent? \n",
    "    \t\n",
    "    \t*Hint: one option is to calculate the proportion of best-sellers for each category and then sort the categories based on this proportion in descending order.*\n",
    "\n",
    "\n",
    "2. **Statistical Tests**:\n",
    "    - Conduct a Chi-square test to determine if the best-seller distribution is independent of the product category.\n",
    "    - Compute Cramér's V to understand the strength of association between best-seller status and category.\n",
    "\n",
    "3. **Visualizations**:\n",
    "\t- Visualize the relationship between product categories and the best-seller status using a stacked bar chart.\n",
    "\n",
    "---\n",
    "\n",
    "### Part 2: Exploring Product Prices and Ratings Across Categories and Brands\n",
    "\n",
    "**Objective**: Investigate how different product categories influence product prices.\n",
    "\n",
    "0. **Preliminary Step: Remove outliers in product prices.**\n",
    "\n",
    "\tFor this purpose, we can use the IQR (Interquartile Range) method. Products priced below the first quartile minus 1.5 times the IQR or above the third quartile plus 1.5 times the IQR will be considered outliers and removed from the dataset. The next steps will be done with the dataframe without outliers.\n",
    "\t\n",
    "\t*Hint: you can check the last Check For Understanding at the end of the lesson EDA Bivariate Analysis for a hint on how to do this.*\n",
    "\n",
    "1. **Violin Plots**:\n",
    "    - Use a violin plot to visualize the distribution of `price` across different product `categories`. Filter out the top 20 categories based on count for better visualization.\n",
    "    - Which product category tends to have the highest median price? Don't filter here by top categories.\n",
    "\n",
    "2. **Bar Charts**:\n",
    "    - Create a bar chart comparing the average price of products for the top 10 product categories (based on count).\n",
    "    - Which product category commands the highest average price? Don't filter here by top categories.\n",
    "\n",
    "3. **Box Plots**:\n",
    "    - Visualize the distribution of product `ratings` based on their `category` using side-by-side box plots. Filter out the top 10 categories based on count for better visualization.\n",
    "    - Which category tends to receive the highest median rating from customers? Don't filter here by top categories.\n",
    "\n",
    "---\n",
    "\n",
    "### Part 3: Investigating the Interplay Between Product Prices and Ratings\n",
    "\n",
    "**Objective**: Analyze how product ratings (`stars`) correlate with product prices.\n",
    "\n",
    "1. **Correlation Coefficients**:\n",
    "    - Calculate the correlation coefficient between `price` and `stars`.\n",
    "    - Is there a significant correlation between product price and its rating?\n",
    "\t\n",
    "2. **Visualizations**:\n",
    "    - Use a scatter plot to visualize the relationship between product rating and price. What patterns can you observe?\n",
    "    - Use a correlation heatmap to visualize correlations between all numerical variables.\n",
    "    - Examine if product prices typically follow a normal distribution using a QQ plot. \n",
    "\n",
    "---\n",
    "\n",
    "**Submission**: Submit a Jupyter Notebook which contains code and a business-centric report summarizing your findings. \n",
    "\n",
    "**Bonus**: \n",
    "\n",
    "- Do the same analysis without taking out the outliers. What are your insights?"
   ]
  },
  {
   "cell_type": "markdown",
   "id": "71ce3eb6",
   "metadata": {},
   "source": [
    "1. **Crosstab Analysis**:\n",
    "    - Create a crosstab between the product `category` and the `isBestSeller` status.\n",
    "    \n",
    "    - Are there categories where being a best-seller is more prevalent? \n",
    "    \t\n",
    "    \t*Hint: one option is to calculate the proportion of best-sellers for each category and then sort the categories based on this proportion in descending order.*"
   ]
  },
  {
   "cell_type": "code",
   "execution_count": null,
   "id": "6c28010e",
   "metadata": {},
   "outputs": [],
   "source": [
    "date = "
   ]
  },
  {
   "cell_type": "code",
   "execution_count": null,
   "id": "078ebefc",
   "metadata": {},
   "outputs": [],
   "source": []
  },
  {
   "cell_type": "code",
   "execution_count": null,
   "id": "b32a2f0d",
   "metadata": {},
   "outputs": [],
   "source": []
  },
  {
   "cell_type": "code",
   "execution_count": null,
   "id": "10954e50",
   "metadata": {},
   "outputs": [],
   "source": []
  },
  {
   "cell_type": "markdown",
   "id": "e165f5e0",
   "metadata": {},
   "source": [
    "2. **Statistical Tests**:\n",
    "    - Conduct a Chi-square test to determine if the best-seller distribution is independent of the product category.\n",
    "    - Compute Cramér's V to understand the strength of association between best-seller status and category.\n"
   ]
  },
  {
   "cell_type": "markdown",
   "id": "ae32619e",
   "metadata": {},
   "source": [
    "3. **Visualizations**:\n",
    "\t- Visualize the relationship between product categories and the best-seller status using a stacked bar chart."
   ]
  },
  {
   "cell_type": "markdown",
   "id": "fc1a8f35",
   "metadata": {},
   "source": [
    "0. **Preliminary Step: Remove outliers in product prices.**\n",
    "\n",
    "\tFor this purpose, we can use the IQR (Interquartile Range) method. Products priced below the first quartile minus 1.5 times the IQR or above the third quartile plus 1.5 times the IQR will be considered outliers and removed from the dataset. The next steps will be done with the dataframe without outliers.\n",
    "\t\n",
    "\t*Hint: you can check the last Check For Understanding at the end of the lesson EDA Bivariate Analysis for a hint on how to do this.*"
   ]
  },
  {
   "cell_type": "markdown",
   "id": "30ec07bd",
   "metadata": {},
   "source": [
    "1. **Violin Plots**:\n",
    "    - Use a violin plot to visualize the distribution of `price` across different product `categories`. Filter out the top 20 categories based on count for better visualization.\n",
    "    - Which product category tends to have the highest median price? Don't filter here by top categories."
   ]
  },
  {
   "cell_type": "markdown",
   "id": "fecabf98",
   "metadata": {},
   "source": [
    "2. **Bar Charts**:\n",
    "    - Create a bar chart comparing the average price of products for the top 10 product categories (based on count).\n",
    "    - Which product category commands the highest average price? Don't filter here by top categories."
   ]
  },
  {
   "cell_type": "markdown",
   "id": "8f144db5",
   "metadata": {},
   "source": [
    "3. **Box Plots**:\n",
    "    - Visualize the distribution of product `ratings` based on their `category` using side-by-side box plots. Filter out the top 10 categories based on count for better visualization.\n",
    "    - Which category tends to receive the highest median rating from customers? Don't filter here by top categories."
   ]
  },
  {
   "cell_type": "markdown",
   "id": "b5b8c8f0",
   "metadata": {},
   "source": [
    "1. **Correlation Coefficients**:\n",
    "    - Calculate the correlation coefficient between `price` and `stars`.\n",
    "    - Is there a significant correlation between product price and its rating?"
   ]
  },
  {
   "cell_type": "markdown",
   "id": "e1f2161e",
   "metadata": {},
   "source": [
    "2. **Visualizations**:\n",
    "    - Use a scatter plot to visualize the relationship between product rating and price. What patterns can you observe?\n",
    "    - Use a correlation heatmap to visualize correlations between all numerical variables.\n",
    "    - Examine if product prices typically follow a normal distribution using a QQ plot. \n"
   ]
  },
  {
   "cell_type": "markdown",
   "id": "97295a1c",
   "metadata": {},
   "source": [
    "**Bonus**: \n",
    "\n",
    "- Do the same analysis without taking out the outliers. What are your insights?"
   ]
  },
  {
   "cell_type": "code",
   "execution_count": null,
   "id": "eab48833",
   "metadata": {},
   "outputs": [],
   "source": []
  }
 ],
 "metadata": {
  "kernelspec": {
   "display_name": "Python 3 (ipykernel)",
   "language": "python",
   "name": "python3"
  },
  "language_info": {
   "codemirror_mode": {
    "name": "ipython",
    "version": 3
   },
   "file_extension": ".py",
   "mimetype": "text/x-python",
   "name": "python",
   "nbconvert_exporter": "python",
   "pygments_lexer": "ipython3",
   "version": "3.11.7"
  }
 },
 "nbformat": 4,
 "nbformat_minor": 5
}
